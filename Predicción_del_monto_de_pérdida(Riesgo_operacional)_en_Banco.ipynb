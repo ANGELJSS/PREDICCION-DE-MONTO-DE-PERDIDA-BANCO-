{
  "nbformat": 4,
  "nbformat_minor": 0,
  "metadata": {
    "colab": {
      "name": "Predicción del monto de pérdida(Riesgo operacional) en Banco.ipynb",
      "provenance": [],
      "collapsed_sections": [],
      "toc_visible": true,
      "include_colab_link": true
    },
    "kernelspec": {
      "name": "python3",
      "display_name": "Python 3"
    },
    "language_info": {
      "name": "python"
    }
  },
  "cells": [
    {
      "cell_type": "markdown",
      "metadata": {
        "id": "view-in-github",
        "colab_type": "text"
      },
      "source": [
        "<a href=\"https://colab.research.google.com/github/ANGELJSS/PREDICCION-DE-MONTO-DE-PERDIDA-BANCO-/blob/main/Predicci%C3%B3n_del_monto_de_p%C3%A9rdida(Riesgo_operacional)_en_Banco.ipynb\" target=\"_parent\"><img src=\"https://colab.research.google.com/assets/colab-badge.svg\" alt=\"Open In Colab\"/></a>"
      ]
    },
    {
      "cell_type": "markdown",
      "metadata": {
        "id": "KNi4oFrD5ETj"
      },
      "source": [
        "# **Predicción del monto de pérdida(Riesgo operacional) en Banco**"
      ]
    },
    {
      "cell_type": "markdown",
      "metadata": {
        "id": "7HmTfsgp6RtA"
      },
      "source": [
        "**Importamos librerias a utilizar**"
      ]
    },
    {
      "cell_type": "code",
      "metadata": {
        "id": "9K1l6AE_5sYp"
      },
      "source": [
        "import pandas as pd\n",
        "import numpy as np\n",
        "import matplotlib.pyplot as plt"
      ],
      "execution_count": 2,
      "outputs": []
    },
    {
      "cell_type": "markdown",
      "metadata": {
        "id": "VpJh3q1ARqOc"
      },
      "source": [
        "**Importamos la data**"
      ]
    },
    {
      "cell_type": "markdown",
      "metadata": {
        "id": "xgDO6cd1RkL1"
      },
      "source": [
        "**Data:**\n",
        "> **data_banco.xlsx**\n",
        ">\n",
        "> - Esta data contiene 19,534 registros que mencionan su Linea de Negocio, Tipo de Evento, Monto de pérdida, Gerencia que reporta, Macroregión donde se materializa el evento, etc. \n",
        "\n",
        "**Contribuidor:**\n",
        "> - Angel Jorge Salazar- angel.jorge@unmsm.edu.pe\n"
      ]
    },
    {
      "cell_type": "code",
      "metadata": {
        "colab": {
          "base_uri": "https://localhost:8080/"
        },
        "id": "ic50KpGVYeoi",
        "outputId": "d55e8bf9-c90c-428d-8d02-a503cc58fd11"
      },
      "source": [
        "from google.colab import drive\n",
        "drive.mount('/content/drive')"
      ],
      "execution_count": 3,
      "outputs": [
        {
          "output_type": "stream",
          "text": [
            "Mounted at /content/drive\n"
          ],
          "name": "stdout"
        }
      ]
    },
    {
      "cell_type": "code",
      "metadata": {
        "colab": {
          "base_uri": "https://localhost:8080/",
          "height": 653
        },
        "id": "7Mu1hIodbHth",
        "outputId": "c827bced-4bae-4bb4-b5a2-d270d7ae8c3c"
      },
      "source": [
        "data_banco =pd.read_excel('/content/drive/MyDrive/Colab Notebooks/Github/Predicción monto de pérdida/data_banco.xlsx',sheet_name='base', header =4)\n",
        "data_banco.head()"
      ],
      "execution_count": 4,
      "outputs": [
        {
          "output_type": "execute_result",
          "data": {
            "text/html": [
              "<div>\n",
              "<style scoped>\n",
              "    .dataframe tbody tr th:only-of-type {\n",
              "        vertical-align: middle;\n",
              "    }\n",
              "\n",
              "    .dataframe tbody tr th {\n",
              "        vertical-align: top;\n",
              "    }\n",
              "\n",
              "    .dataframe thead th {\n",
              "        text-align: right;\n",
              "    }\n",
              "</style>\n",
              "<table border=\"1\" class=\"dataframe\">\n",
              "  <thead>\n",
              "    <tr style=\"text-align: right;\">\n",
              "      <th></th>\n",
              "      <th>N°</th>\n",
              "      <th>Evento Estimado</th>\n",
              "      <th>Memo.</th>\n",
              "      <th>Código Evento</th>\n",
              "      <th>AÑO</th>\n",
              "      <th>Código Riesgo</th>\n",
              "      <th>Código Causa</th>\n",
              "      <th>Gerencia que reporta</th>\n",
              "      <th>Subgerencia que reporta</th>\n",
              "      <th>Macroregión donde se materializa el evento</th>\n",
              "      <th>Agencia donde se materializa el evento</th>\n",
              "      <th>Linea de Negocio</th>\n",
              "      <th>Tipo de Evento N1</th>\n",
              "      <th>Tipo de Evento N2</th>\n",
              "      <th>Descripción Corta</th>\n",
              "      <th>Descripción Larga</th>\n",
              "      <th>Código Reclamo</th>\n",
              "      <th>Apellidos y Nombres (Cliente Afectado)</th>\n",
              "      <th>DNI</th>\n",
              "      <th>Código ATM</th>\n",
              "      <th>Marca de ATM</th>\n",
              "      <th>Ubicación del POS / ATM</th>\n",
              "      <th>N° Informe Técnico</th>\n",
              "      <th>N° Expediente</th>\n",
              "      <th>Petitorio</th>\n",
              "      <th>Fecha registro en Base de Datos</th>\n",
              "      <th>Fecha ocurrencia</th>\n",
              "      <th>Fecha descubrimiento</th>\n",
              "      <th>Monto Pérdida 1 (S/)</th>\n",
              "      <th>Cuenta Contable - Pérdida 1</th>\n",
              "      <th>Fecha Reg. Contable - Pérdida 1</th>\n",
              "      <th>Sintético - Pérdida 1</th>\n",
              "      <th>Monto Multa/Sanción (S/)</th>\n",
              "      <th>Cuenta Contable - Multa/Sanción</th>\n",
              "      <th>Fecha Reg. Contable - Multa/Sanción</th>\n",
              "      <th>Sintético - Multa/Sanción</th>\n",
              "      <th>Monto Intereses Legales (S/)</th>\n",
              "      <th>Cuenta Contable - Intereses Legales</th>\n",
              "      <th>Fecha Reg. Contable - Intereses Legales</th>\n",
              "      <th>Sintético - Intereses Legales</th>\n",
              "      <th>Monto Gastos y Costos Indirectos (S/)</th>\n",
              "      <th>Cuenta Contable - Gastos y Costos Indirectos</th>\n",
              "      <th>Fecha Reg. Contable - Gastos y Costos Indirectos</th>\n",
              "      <th>Sintético - Gastos y Costos Indirectos</th>\n",
              "      <th>Pérdida Bruta (S/.)</th>\n",
              "      <th>Monto recuperado (Coberturas existentes) (S/)</th>\n",
              "      <th>Cuenta Contable - recuperado (Coberturas existentes)</th>\n",
              "      <th>Fecha Reg. Contable - recuperado (Coberturas existentes)</th>\n",
              "      <th>Sintético - recuperado (Coberturas existentes)</th>\n",
              "      <th>Monto recuperado (Otros conceptos) (S/.)</th>\n",
              "      <th>Cuenta Contable - recuperado (Otros conceptos)</th>\n",
              "      <th>Fecha Reg. Contable - recuperado (Otros conceptos)</th>\n",
              "      <th>Sintético - recuperado (Otros conceptos)/td&gt;</th>\n",
              "      <th>Total Monto recuperado (S/.)</th>\n",
              "      <th>Pérdida Neta (S/.)</th>\n",
              "      <th>Motivo de recuperación</th>\n",
              "      <th>Respuesta con Memorandum</th>\n",
              "      <th>Evento asociado a Riesgo Crediticio</th>\n",
              "      <th>Registro Contable</th>\n",
              "      <th>Estado</th>\n",
              "      <th>Observación</th>\n",
              "      <th>Código Evento Múltiple</th>\n",
              "      <th>Código Error ATM</th>\n",
              "      <th>N° Informe Legal</th>\n",
              "      <th>Clonación (Lugar de Ataque)</th>\n",
              "      <th>POS involucrado</th>\n",
              "    </tr>\n",
              "  </thead>\n",
              "  <tbody>\n",
              "    <tr>\n",
              "      <th>0</th>\n",
              "      <td>1</td>\n",
              "      <td>No</td>\n",
              "      <td>Memo 3122-0622-2011</td>\n",
              "      <td>2011-0001</td>\n",
              "      <td>2011</td>\n",
              "      <td>114</td>\n",
              "      <td>NaN</td>\n",
              "      <td>Gerencia de Operaciones</td>\n",
              "      <td>Subgerencia Banca Virtual</td>\n",
              "      <td>No identificado</td>\n",
              "      <td>No identificado</td>\n",
              "      <td>Otros servicios</td>\n",
              "      <td>Fraude externo</td>\n",
              "      <td>Robo y fraude</td>\n",
              "      <td>Copiado de información de banda magnética de T...</td>\n",
              "      <td>Reclamo 005711-7, Cliente Espinoza Ortiz Gabin...</td>\n",
              "      <td>005711-7</td>\n",
              "      <td>ESPINOZA ORTIZ GABINO ALFREDO</td>\n",
              "      <td>29431392</td>\n",
              "      <td>0</td>\n",
              "      <td>NaN</td>\n",
              "      <td>NaN</td>\n",
              "      <td>NaN</td>\n",
              "      <td>0</td>\n",
              "      <td>NaN</td>\n",
              "      <td>2011-08-09</td>\n",
              "      <td>2011-03-28</td>\n",
              "      <td>2011-03-31</td>\n",
              "      <td>4453.96</td>\n",
              "      <td>6311.09.09.05.02</td>\n",
              "      <td>2011-09-29</td>\n",
              "      <td>146-28</td>\n",
              "      <td>0.0</td>\n",
              "      <td>NaN</td>\n",
              "      <td>NaT</td>\n",
              "      <td>NaN</td>\n",
              "      <td>0.0</td>\n",
              "      <td>NaN</td>\n",
              "      <td>NaT</td>\n",
              "      <td>NaN</td>\n",
              "      <td>0.0</td>\n",
              "      <td>NaN</td>\n",
              "      <td>NaT</td>\n",
              "      <td>NaN</td>\n",
              "      <td>4453.96</td>\n",
              "      <td>0.0</td>\n",
              "      <td>NaN</td>\n",
              "      <td>NaT</td>\n",
              "      <td>NaN</td>\n",
              "      <td>2000.0</td>\n",
              "      <td>NaN</td>\n",
              "      <td>NaN</td>\n",
              "      <td>NaN</td>\n",
              "      <td>2000.0</td>\n",
              "      <td>2453.96</td>\n",
              "      <td>Contracargos Ganados VISA</td>\n",
              "      <td>EF/92.2120 N° 291 - 2011</td>\n",
              "      <td>No</td>\n",
              "      <td>Conciliado</td>\n",
              "      <td>Cerrado</td>\n",
              "      <td>NaN</td>\n",
              "      <td>NaN</td>\n",
              "      <td>NaN</td>\n",
              "      <td>NaN</td>\n",
              "      <td>NaN</td>\n",
              "      <td>0</td>\n",
              "    </tr>\n",
              "    <tr>\n",
              "      <th>1</th>\n",
              "      <td>2</td>\n",
              "      <td>No</td>\n",
              "      <td>Memo 3122-0751-2011</td>\n",
              "      <td>2011-0002</td>\n",
              "      <td>2011</td>\n",
              "      <td>114</td>\n",
              "      <td>NaN</td>\n",
              "      <td>Gerencia de Operaciones</td>\n",
              "      <td>Subgerencia Banca Virtual</td>\n",
              "      <td>No identificado</td>\n",
              "      <td>No identificado</td>\n",
              "      <td>Otros servicios</td>\n",
              "      <td>Fraude externo</td>\n",
              "      <td>Robo y fraude</td>\n",
              "      <td>Copiado de información de banda magnética de T...</td>\n",
              "      <td>Reclamo 283111-250, Cliente Nancy Pilar Pandur...</td>\n",
              "      <td>283111-250</td>\n",
              "      <td>PANDURO AREVALO NANCY PILAR</td>\n",
              "      <td>09857309</td>\n",
              "      <td>0</td>\n",
              "      <td>NaN</td>\n",
              "      <td>NaN</td>\n",
              "      <td>NaN</td>\n",
              "      <td>0</td>\n",
              "      <td>NaN</td>\n",
              "      <td>2011-08-09</td>\n",
              "      <td>2011-03-30</td>\n",
              "      <td>2011-04-01</td>\n",
              "      <td>2807.00</td>\n",
              "      <td>6311.09.09.05.02</td>\n",
              "      <td>2011-09-29</td>\n",
              "      <td>146-28</td>\n",
              "      <td>0.0</td>\n",
              "      <td>NaN</td>\n",
              "      <td>NaT</td>\n",
              "      <td>NaN</td>\n",
              "      <td>0.0</td>\n",
              "      <td>NaN</td>\n",
              "      <td>NaT</td>\n",
              "      <td>NaN</td>\n",
              "      <td>0.0</td>\n",
              "      <td>NaN</td>\n",
              "      <td>NaT</td>\n",
              "      <td>NaN</td>\n",
              "      <td>2807.00</td>\n",
              "      <td>0.0</td>\n",
              "      <td>NaN</td>\n",
              "      <td>NaT</td>\n",
              "      <td>NaN</td>\n",
              "      <td>280.2</td>\n",
              "      <td>NaN</td>\n",
              "      <td>NaN</td>\n",
              "      <td>NaN</td>\n",
              "      <td>280.2</td>\n",
              "      <td>2526.80</td>\n",
              "      <td>Contracargos Ganados VISA</td>\n",
              "      <td>EF/92.2120 N° 291 - 2011</td>\n",
              "      <td>No</td>\n",
              "      <td>Conciliado</td>\n",
              "      <td>Cerrado</td>\n",
              "      <td>NaN</td>\n",
              "      <td>NaN</td>\n",
              "      <td>NaN</td>\n",
              "      <td>NaN</td>\n",
              "      <td>NaN</td>\n",
              "      <td>0</td>\n",
              "    </tr>\n",
              "    <tr>\n",
              "      <th>2</th>\n",
              "      <td>3</td>\n",
              "      <td>No</td>\n",
              "      <td>Memo 3122-0622-2011</td>\n",
              "      <td>2011-0003</td>\n",
              "      <td>2011</td>\n",
              "      <td>114</td>\n",
              "      <td>NaN</td>\n",
              "      <td>Gerencia de Operaciones</td>\n",
              "      <td>Subgerencia Banca Virtual</td>\n",
              "      <td>No identificado</td>\n",
              "      <td>No identificado</td>\n",
              "      <td>Otros servicios</td>\n",
              "      <td>Fraude externo</td>\n",
              "      <td>Robo y fraude</td>\n",
              "      <td>Copiado de información de banda magnética de T...</td>\n",
              "      <td>Reclamo 004511-13, Cliente Sipan Mendizabal Ví...</td>\n",
              "      <td>004511-13</td>\n",
              "      <td>SIPAN MENDIZABAL VICTOR LUIS</td>\n",
              "      <td>09542271</td>\n",
              "      <td>0</td>\n",
              "      <td>NaN</td>\n",
              "      <td>NaN</td>\n",
              "      <td>NaN</td>\n",
              "      <td>0</td>\n",
              "      <td>NaN</td>\n",
              "      <td>2011-08-09</td>\n",
              "      <td>2011-03-31</td>\n",
              "      <td>2011-04-04</td>\n",
              "      <td>4750.00</td>\n",
              "      <td>6311.09.09.05.02</td>\n",
              "      <td>2011-09-29</td>\n",
              "      <td>146-28</td>\n",
              "      <td>0.0</td>\n",
              "      <td>NaN</td>\n",
              "      <td>NaT</td>\n",
              "      <td>NaN</td>\n",
              "      <td>0.0</td>\n",
              "      <td>NaN</td>\n",
              "      <td>NaT</td>\n",
              "      <td>NaN</td>\n",
              "      <td>0.0</td>\n",
              "      <td>NaN</td>\n",
              "      <td>NaT</td>\n",
              "      <td>NaN</td>\n",
              "      <td>4750.00</td>\n",
              "      <td>0.0</td>\n",
              "      <td>NaN</td>\n",
              "      <td>NaT</td>\n",
              "      <td>NaN</td>\n",
              "      <td>2500.0</td>\n",
              "      <td>NaN</td>\n",
              "      <td>NaN</td>\n",
              "      <td>NaN</td>\n",
              "      <td>2500.0</td>\n",
              "      <td>2250.00</td>\n",
              "      <td>Contracargos Ganados VISA</td>\n",
              "      <td>EF/92.2120 N° 291 - 2011</td>\n",
              "      <td>No</td>\n",
              "      <td>Conciliado</td>\n",
              "      <td>Cerrado</td>\n",
              "      <td>NaN</td>\n",
              "      <td>NaN</td>\n",
              "      <td>NaN</td>\n",
              "      <td>NaN</td>\n",
              "      <td>NaN</td>\n",
              "      <td>0</td>\n",
              "    </tr>\n",
              "    <tr>\n",
              "      <th>3</th>\n",
              "      <td>4</td>\n",
              "      <td>No</td>\n",
              "      <td>Memo 3122-0622-2011</td>\n",
              "      <td>2011-0005</td>\n",
              "      <td>2011</td>\n",
              "      <td>114</td>\n",
              "      <td>NaN</td>\n",
              "      <td>Gerencia de Operaciones</td>\n",
              "      <td>Subgerencia Banca Virtual</td>\n",
              "      <td>No identificado</td>\n",
              "      <td>No identificado</td>\n",
              "      <td>Otros servicios</td>\n",
              "      <td>Fraude externo</td>\n",
              "      <td>Robo y fraude</td>\n",
              "      <td>Copiado de información de banda magnética de T...</td>\n",
              "      <td>Reclamo 004611-45, Cliente Noemí Farfán Vidal,...</td>\n",
              "      <td>004611-45</td>\n",
              "      <td>FARFAN VIDAL NOEMI YENNY</td>\n",
              "      <td>08695633</td>\n",
              "      <td>0</td>\n",
              "      <td>NaN</td>\n",
              "      <td>NaN</td>\n",
              "      <td>NaN</td>\n",
              "      <td>0</td>\n",
              "      <td>NaN</td>\n",
              "      <td>2011-08-09</td>\n",
              "      <td>2011-04-01</td>\n",
              "      <td>2011-04-18</td>\n",
              "      <td>100.00</td>\n",
              "      <td>6311.09.09.05.02</td>\n",
              "      <td>2011-09-13</td>\n",
              "      <td>146-7</td>\n",
              "      <td>0.0</td>\n",
              "      <td>NaN</td>\n",
              "      <td>NaT</td>\n",
              "      <td>NaN</td>\n",
              "      <td>0.0</td>\n",
              "      <td>NaN</td>\n",
              "      <td>NaT</td>\n",
              "      <td>NaN</td>\n",
              "      <td>0.0</td>\n",
              "      <td>NaN</td>\n",
              "      <td>NaT</td>\n",
              "      <td>NaN</td>\n",
              "      <td>100.00</td>\n",
              "      <td>0.0</td>\n",
              "      <td>NaN</td>\n",
              "      <td>NaT</td>\n",
              "      <td>NaN</td>\n",
              "      <td>0.0</td>\n",
              "      <td>NaN</td>\n",
              "      <td>NaN</td>\n",
              "      <td>NaN</td>\n",
              "      <td>0.0</td>\n",
              "      <td>100.00</td>\n",
              "      <td>NaN</td>\n",
              "      <td>EF/92.2120 N° 291 - 2011</td>\n",
              "      <td>No</td>\n",
              "      <td>Conciliado</td>\n",
              "      <td>Cerrado</td>\n",
              "      <td>NaN</td>\n",
              "      <td>NaN</td>\n",
              "      <td>NaN</td>\n",
              "      <td>NaN</td>\n",
              "      <td>NaN</td>\n",
              "      <td>0</td>\n",
              "    </tr>\n",
              "    <tr>\n",
              "      <th>4</th>\n",
              "      <td>5</td>\n",
              "      <td>No</td>\n",
              "      <td>Memo 3122-0622-2011</td>\n",
              "      <td>2011-0006</td>\n",
              "      <td>2011</td>\n",
              "      <td>114</td>\n",
              "      <td>NaN</td>\n",
              "      <td>Gerencia de Operaciones</td>\n",
              "      <td>Subgerencia Banca Virtual</td>\n",
              "      <td>No identificado</td>\n",
              "      <td>No identificado</td>\n",
              "      <td>Otros servicios</td>\n",
              "      <td>Fraude externo</td>\n",
              "      <td>Robo y fraude</td>\n",
              "      <td>Copiado de información de banda magnética de T...</td>\n",
              "      <td>Reclamo 000211-34, Cliente Cruz Lucero Gladys ...</td>\n",
              "      <td>000211-34</td>\n",
              "      <td>CRUZ LUCERO GLADYS YOLANDA</td>\n",
              "      <td>33242802</td>\n",
              "      <td>0</td>\n",
              "      <td>NaN</td>\n",
              "      <td>NaN</td>\n",
              "      <td>NaN</td>\n",
              "      <td>NaN</td>\n",
              "      <td>NaN</td>\n",
              "      <td>2011-08-09</td>\n",
              "      <td>2011-03-01</td>\n",
              "      <td>2011-04-18</td>\n",
              "      <td>6479.00</td>\n",
              "      <td>6311.09.09.05.02</td>\n",
              "      <td>2011-09-14</td>\n",
              "      <td>146-4</td>\n",
              "      <td>0.0</td>\n",
              "      <td>NaN</td>\n",
              "      <td>NaT</td>\n",
              "      <td>NaN</td>\n",
              "      <td>0.0</td>\n",
              "      <td>NaN</td>\n",
              "      <td>NaT</td>\n",
              "      <td>NaN</td>\n",
              "      <td>0.0</td>\n",
              "      <td>NaN</td>\n",
              "      <td>NaT</td>\n",
              "      <td>NaN</td>\n",
              "      <td>6479.00</td>\n",
              "      <td>0.0</td>\n",
              "      <td>NaN</td>\n",
              "      <td>NaT</td>\n",
              "      <td>NaN</td>\n",
              "      <td>0.0</td>\n",
              "      <td>NaN</td>\n",
              "      <td>NaN</td>\n",
              "      <td>NaN</td>\n",
              "      <td>0.0</td>\n",
              "      <td>6479.00</td>\n",
              "      <td>NaN</td>\n",
              "      <td>EF/92.2120 N° 291 - 2011</td>\n",
              "      <td>No</td>\n",
              "      <td>Conciliado</td>\n",
              "      <td>Cerrado</td>\n",
              "      <td>NaN</td>\n",
              "      <td>NaN</td>\n",
              "      <td>NaN</td>\n",
              "      <td>NaN</td>\n",
              "      <td>NaN</td>\n",
              "      <td>0</td>\n",
              "    </tr>\n",
              "  </tbody>\n",
              "</table>\n",
              "</div>"
            ],
            "text/plain": [
              "   N° Evento Estimado  ... Clonación (Lugar de Ataque) POS involucrado\n",
              "0   1              No  ...                         NaN               0\n",
              "1   2              No  ...                         NaN               0\n",
              "2   3              No  ...                         NaN               0\n",
              "3   4              No  ...                         NaN               0\n",
              "4   5              No  ...                         NaN               0\n",
              "\n",
              "[5 rows x 66 columns]"
            ]
          },
          "metadata": {
            "tags": []
          },
          "execution_count": 4
        }
      ]
    },
    {
      "cell_type": "code",
      "metadata": {
        "colab": {
          "base_uri": "https://localhost:8080/"
        },
        "id": "fvzWMrI3d1B6",
        "outputId": "31c9fd50-a64b-4186-f980-6c5069697de9"
      },
      "source": [
        "data_banco.shape"
      ],
      "execution_count": 5,
      "outputs": [
        {
          "output_type": "execute_result",
          "data": {
            "text/plain": [
              "(19534, 66)"
            ]
          },
          "metadata": {
            "tags": []
          },
          "execution_count": 5
        }
      ]
    },
    {
      "cell_type": "code",
      "metadata": {
        "colab": {
          "base_uri": "https://localhost:8080/"
        },
        "id": "PMo4pK-QgI_2",
        "outputId": "63814be0-9ac8-4080-fdb2-1d90294af8c0"
      },
      "source": [
        "data_banco.dtypes"
      ],
      "execution_count": 6,
      "outputs": [
        {
          "output_type": "execute_result",
          "data": {
            "text/plain": [
              "N°                              int64\n",
              "Evento Estimado                object\n",
              "Memo.                          object\n",
              "Código Evento                  object\n",
              "AÑO                             int64\n",
              "                                ...  \n",
              "Código Evento Múltiple         object\n",
              "Código Error ATM               object\n",
              "N° Informe Legal               object\n",
              "Clonación (Lugar de Ataque)    object\n",
              "POS involucrado                object\n",
              "Length: 66, dtype: object"
            ]
          },
          "metadata": {
            "tags": []
          },
          "execution_count": 6
        }
      ]
    },
    {
      "cell_type": "code",
      "metadata": {
        "colab": {
          "base_uri": "https://localhost:8080/"
        },
        "id": "seoUTw73kHTr",
        "outputId": "49feb9ef-529b-4c26-eec8-6524e3ec9c26"
      },
      "source": [
        "data_banco.info()"
      ],
      "execution_count": 7,
      "outputs": [
        {
          "output_type": "stream",
          "text": [
            "<class 'pandas.core.frame.DataFrame'>\n",
            "RangeIndex: 19534 entries, 0 to 19533\n",
            "Data columns (total 66 columns):\n",
            " #   Column                                                    Non-Null Count  Dtype         \n",
            "---  ------                                                    --------------  -----         \n",
            " 0   N°                                                        19534 non-null  int64         \n",
            " 1   Evento Estimado                                           19534 non-null  object        \n",
            " 2   Memo.                                                     19158 non-null  object        \n",
            " 3   Código Evento                                             19534 non-null  object        \n",
            " 4   AÑO                                                       19534 non-null  int64         \n",
            " 5   Código Riesgo                                             19534 non-null  int64         \n",
            " 6   Código Causa                                              0 non-null      float64       \n",
            " 7   Gerencia que reporta                                      19534 non-null  object        \n",
            " 8   Subgerencia que reporta                                   19449 non-null  object        \n",
            " 9   Macroregión donde se materializa el evento                19534 non-null  object        \n",
            " 10  Agencia donde se materializa el evento                    19534 non-null  object        \n",
            " 11  Linea de Negocio                                          19534 non-null  object        \n",
            " 12  Tipo de Evento N1                                         19534 non-null  object        \n",
            " 13  Tipo de Evento N2                                         19534 non-null  object        \n",
            " 14  Descripción Corta                                         19534 non-null  object        \n",
            " 15  Descripción Larga                                         19534 non-null  object        \n",
            " 16  Código Reclamo                                            10231 non-null  object        \n",
            " 17  Apellidos y Nombres (Cliente Afectado)                    15510 non-null  object        \n",
            " 18  DNI                                                       11352 non-null  object        \n",
            " 19  Código ATM                                                19534 non-null  object        \n",
            " 20  Marca de ATM                                              5685 non-null   object        \n",
            " 21  Ubicación del POS / ATM                                   1445 non-null   object        \n",
            " 22  N° Informe Técnico                                        8108 non-null   object        \n",
            " 23  N° Expediente                                             14709 non-null  object        \n",
            " 24  Petitorio                                                 3178 non-null   object        \n",
            " 25  Fecha registro en Base de Datos                           19534 non-null  datetime64[ns]\n",
            " 26  Fecha ocurrencia                                          19534 non-null  datetime64[ns]\n",
            " 27  Fecha descubrimiento                                      19534 non-null  datetime64[ns]\n",
            " 28  Monto Pérdida 1 (S/)                                      19534 non-null  float64       \n",
            " 29  Cuenta Contable - Pérdida 1                               17565 non-null  object        \n",
            " 30  Fecha Reg. Contable - Pérdida 1                           17672 non-null  datetime64[ns]\n",
            " 31  Sintético - Pérdida 1                                     16512 non-null  object        \n",
            " 32  Monto Multa/Sanción (S/)                                  19534 non-null  float64       \n",
            " 33  Cuenta Contable - Multa/Sanción                           212 non-null    object        \n",
            " 34  Fecha Reg. Contable - Multa/Sanción                       212 non-null    datetime64[ns]\n",
            " 35  Sintético - Multa/Sanción                                 206 non-null    object        \n",
            " 36  Monto Intereses Legales (S/)                              19534 non-null  float64       \n",
            " 37  Cuenta Contable - Intereses Legales                       1554 non-null   object        \n",
            " 38  Fecha Reg. Contable - Intereses Legales                   1556 non-null   datetime64[ns]\n",
            " 39  Sintético - Intereses Legales                             1551 non-null   object        \n",
            " 40  Monto Gastos y Costos Indirectos (S/)                     19534 non-null  float64       \n",
            " 41  Cuenta Contable - Gastos y Costos Indirectos              691 non-null    object        \n",
            " 42  Fecha Reg. Contable - Gastos y Costos Indirectos          693 non-null    datetime64[ns]\n",
            " 43  Sintético - Gastos y Costos Indirectos                    669 non-null    object        \n",
            " 44  Pérdida Bruta (S/.)                                       19534 non-null  float64       \n",
            " 45  Monto recuperado (Coberturas existentes) (S/)             19534 non-null  float64       \n",
            " 46  Cuenta Contable - recuperado (Coberturas existentes)      242 non-null    object        \n",
            " 47  Fecha Reg. Contable - recuperado (Coberturas existentes)  243 non-null    datetime64[ns]\n",
            " 48  Sintético - recuperado (Coberturas existentes)            234 non-null    object        \n",
            " 49  Monto recuperado (Otros conceptos) (S/.)                  19534 non-null  float64       \n",
            " 50  Cuenta Contable - recuperado (Otros conceptos)            3061 non-null   object        \n",
            " 51  Fecha Reg. Contable - recuperado (Otros conceptos)        3061 non-null   object        \n",
            " 52  Sintético - recuperado (Otros conceptos)/td>              3060 non-null   object        \n",
            " 53  Total Monto recuperado (S/.)                              19534 non-null  float64       \n",
            " 54  Pérdida Neta (S/.)                                        19534 non-null  float64       \n",
            " 55  Motivo de recuperación                                    400 non-null    object        \n",
            " 56  Respuesta con Memorandum                                  6006 non-null   object        \n",
            " 57  Evento asociado a Riesgo Crediticio                       19534 non-null  object        \n",
            " 58  Registro Contable                                         14597 non-null  object        \n",
            " 59  Estado                                                    18168 non-null  object        \n",
            " 60  Observación                                               69 non-null     object        \n",
            " 61  Código Evento Múltiple                                    2877 non-null   object        \n",
            " 62  Código Error ATM                                          937 non-null    object        \n",
            " 63  N° Informe Legal                                          25 non-null     object        \n",
            " 64  Clonación (Lugar de Ataque)                               705 non-null    object        \n",
            " 65  POS involucrado                                           19534 non-null  object        \n",
            "dtypes: datetime64[ns](8), float64(10), int64(3), object(45)\n",
            "memory usage: 9.8+ MB\n"
          ],
          "name": "stdout"
        }
      ]
    },
    {
      "cell_type": "code",
      "metadata": {
        "id": "1Xm1Dwf4kWVf",
        "colab": {
          "base_uri": "https://localhost:8080/"
        },
        "outputId": "60b2cbd7-68ac-4f63-d3f7-9a5c0321e2fa"
      },
      "source": [
        "data_banco['Código Causa'].unique()"
      ],
      "execution_count": 8,
      "outputs": [
        {
          "output_type": "execute_result",
          "data": {
            "text/plain": [
              "array([nan])"
            ]
          },
          "metadata": {
            "tags": []
          },
          "execution_count": 8
        }
      ]
    },
    {
      "cell_type": "code",
      "metadata": {
        "colab": {
          "base_uri": "https://localhost:8080/"
        },
        "id": "5X3cS3LzY4mq",
        "outputId": "ba2bd171-dd03-40da-c5ac-e824c59d5206"
      },
      "source": [
        "#Eliminamos las columnas con pocos o datos incompletos\n",
        "data_banco1 = data_banco.drop(['Código Causa','Clonación (Lugar de Ataque)','N° Informe Legal','Código Error ATM','Código Evento Múltiple','Observación','Respuesta con Memorandum','Motivo de recuperación','Sintético - recuperado (Otros conceptos)/td>','Fecha Reg. Contable - recuperado (Otros conceptos)','Cuenta Contable - recuperado (Otros conceptos)','Sintético - recuperado (Coberturas existentes)','Fecha Reg. Contable - recuperado (Coberturas existentes)','Cuenta Contable - recuperado (Coberturas existentes)','Sintético - Gastos y Costos Indirectos','Fecha Reg. Contable - Gastos y Costos Indirectos','Cuenta Contable - Gastos y Costos Indirectos','Sintético - Intereses Legales','Fecha Reg. Contable - Intereses Legales','Fecha Reg. Contable - Intereses Legales','Cuenta Contable - Intereses Legales','Sintético - Multa/Sanción','Fecha Reg. Contable - Multa/Sanción','Cuenta Contable - Multa/Sanción','Petitorio','Ubicación del POS / ATM','Marca de ATM'], axis=1)\n",
        "data_banco1.info()"
      ],
      "execution_count": 10,
      "outputs": [
        {
          "output_type": "stream",
          "text": [
            "<class 'pandas.core.frame.DataFrame'>\n",
            "RangeIndex: 19534 entries, 0 to 19533\n",
            "Data columns (total 40 columns):\n",
            " #   Column                                         Non-Null Count  Dtype         \n",
            "---  ------                                         --------------  -----         \n",
            " 0   N°                                             19534 non-null  int64         \n",
            " 1   Evento Estimado                                19534 non-null  object        \n",
            " 2   Memo.                                          19158 non-null  object        \n",
            " 3   Código Evento                                  19534 non-null  object        \n",
            " 4   AÑO                                            19534 non-null  int64         \n",
            " 5   Código Riesgo                                  19534 non-null  int64         \n",
            " 6   Gerencia que reporta                           19534 non-null  object        \n",
            " 7   Subgerencia que reporta                        19449 non-null  object        \n",
            " 8   Macroregión donde se materializa el evento     19534 non-null  object        \n",
            " 9   Agencia donde se materializa el evento         19534 non-null  object        \n",
            " 10  Linea de Negocio                               19534 non-null  object        \n",
            " 11  Tipo de Evento N1                              19534 non-null  object        \n",
            " 12  Tipo de Evento N2                              19534 non-null  object        \n",
            " 13  Descripción Corta                              19534 non-null  object        \n",
            " 14  Descripción Larga                              19534 non-null  object        \n",
            " 15  Código Reclamo                                 10231 non-null  object        \n",
            " 16  Apellidos y Nombres (Cliente Afectado)         15510 non-null  object        \n",
            " 17  DNI                                            11352 non-null  object        \n",
            " 18  Código ATM                                     19534 non-null  object        \n",
            " 19  N° Informe Técnico                             8108 non-null   object        \n",
            " 20  N° Expediente                                  14709 non-null  object        \n",
            " 21  Fecha registro en Base de Datos                19534 non-null  datetime64[ns]\n",
            " 22  Fecha ocurrencia                               19534 non-null  datetime64[ns]\n",
            " 23  Fecha descubrimiento                           19534 non-null  datetime64[ns]\n",
            " 24  Monto Pérdida 1 (S/)                           19534 non-null  float64       \n",
            " 25  Cuenta Contable - Pérdida 1                    17565 non-null  object        \n",
            " 26  Fecha Reg. Contable - Pérdida 1                17672 non-null  datetime64[ns]\n",
            " 27  Sintético - Pérdida 1                          16512 non-null  object        \n",
            " 28  Monto Multa/Sanción (S/)                       19534 non-null  float64       \n",
            " 29  Monto Intereses Legales (S/)                   19534 non-null  float64       \n",
            " 30  Monto Gastos y Costos Indirectos (S/)          19534 non-null  float64       \n",
            " 31  Pérdida Bruta (S/.)                            19534 non-null  float64       \n",
            " 32  Monto recuperado (Coberturas existentes) (S/)  19534 non-null  float64       \n",
            " 33  Monto recuperado (Otros conceptos) (S/.)       19534 non-null  float64       \n",
            " 34  Total Monto recuperado (S/.)                   19534 non-null  float64       \n",
            " 35  Pérdida Neta (S/.)                             19534 non-null  float64       \n",
            " 36  Evento asociado a Riesgo Crediticio            19534 non-null  object        \n",
            " 37  Registro Contable                              14597 non-null  object        \n",
            " 38  Estado                                         18168 non-null  object        \n",
            " 39  POS involucrado                                19534 non-null  object        \n",
            "dtypes: datetime64[ns](4), float64(9), int64(3), object(24)\n",
            "memory usage: 6.0+ MB\n"
          ],
          "name": "stdout"
        }
      ]
    },
    {
      "cell_type": "code",
      "metadata": {
        "colab": {
          "base_uri": "https://localhost:8080/"
        },
        "id": "SvUV8hqmdiSw",
        "outputId": "220027db-b269-49cd-f522-3a7e0124e7ba"
      },
      "source": [
        "data_banco1['Evento Estimado'].unique() # eliminar"
      ],
      "execution_count": 13,
      "outputs": [
        {
          "output_type": "execute_result",
          "data": {
            "text/plain": [
              "array(['No'], dtype=object)"
            ]
          },
          "metadata": {
            "tags": []
          },
          "execution_count": 13
        }
      ]
    },
    {
      "cell_type": "code",
      "metadata": {
        "colab": {
          "base_uri": "https://localhost:8080/"
        },
        "id": "_ywo_h3pea2b",
        "outputId": "d1446fb9-abdb-422c-9bb3-8b075caf02bc"
      },
      "source": [
        "data_banco1['N°'].unique() # eliminar"
      ],
      "execution_count": 12,
      "outputs": [
        {
          "output_type": "execute_result",
          "data": {
            "text/plain": [
              "array([    1,     2,     3, ..., 19532, 19533, 19534])"
            ]
          },
          "metadata": {
            "tags": []
          },
          "execution_count": 12
        }
      ]
    },
    {
      "cell_type": "code",
      "metadata": {
        "colab": {
          "base_uri": "https://localhost:8080/"
        },
        "id": "BC5eByRPewAy",
        "outputId": "9cee6579-afee-467e-8e43-287029b32cbe"
      },
      "source": [
        "data_banco1['Memo.'].unique() # eliminar(ojo)"
      ],
      "execution_count": 14,
      "outputs": [
        {
          "output_type": "execute_result",
          "data": {
            "text/plain": [
              "array(['Memo 3122-0622-2011', 'Memo 3122-0751-2011',\n",
              "       'Memo 3122-0665-2011', ..., 'Memo 7220-0338-2020',\n",
              "       'Memo 7220-0358-2020', 'Memo 2670-0010-2021'], dtype=object)"
            ]
          },
          "metadata": {
            "tags": []
          },
          "execution_count": 14
        }
      ]
    },
    {
      "cell_type": "code",
      "metadata": {
        "colab": {
          "base_uri": "https://localhost:8080/"
        },
        "id": "ENK4xEjwe7nr",
        "outputId": "3726343c-fcd9-4afc-8bd6-13293aa231be"
      },
      "source": [
        "data_banco1['Código Evento'].unique() # eliminar(ojo)"
      ],
      "execution_count": 15,
      "outputs": [
        {
          "output_type": "execute_result",
          "data": {
            "text/plain": [
              "array(['2011-0001', '2011-0002', '2011-0003', ..., '2020-2414',\n",
              "       '2020-2415', '2020-2416'], dtype=object)"
            ]
          },
          "metadata": {
            "tags": []
          },
          "execution_count": 15
        }
      ]
    },
    {
      "cell_type": "code",
      "metadata": {
        "colab": {
          "base_uri": "https://localhost:8080/"
        },
        "id": "nH9Bx1_FfN09",
        "outputId": "7e9f32d9-0608-4db2-8a3e-63c811247ce1"
      },
      "source": [
        "data_banco1['AÑO'].unique() "
      ],
      "execution_count": 16,
      "outputs": [
        {
          "output_type": "execute_result",
          "data": {
            "text/plain": [
              "array([2011, 2012, 2013, 2014, 2015, 2016, 2017, 2018, 2019, 2020])"
            ]
          },
          "metadata": {
            "tags": []
          },
          "execution_count": 16
        }
      ]
    },
    {
      "cell_type": "code",
      "metadata": {
        "colab": {
          "base_uri": "https://localhost:8080/"
        },
        "id": "qNHPQgYCfrB_",
        "outputId": "4e349297-43d5-4a15-b1d7-b7474b777234"
      },
      "source": [
        "data_banco1['Código Riesgo'].unique()"
      ],
      "execution_count": 17,
      "outputs": [
        {
          "output_type": "execute_result",
          "data": {
            "text/plain": [
              "array([114, 120, 101, 113, 386, 359,  58,   0, 143,  16, 274, 105, 132,\n",
              "       209, 301, 204, 158, 195, 128, 226, 123, 265, 225, 268, 270, 271,\n",
              "       259, 236, 168, 148, 397, 124, 408, 387, 115, 341, 288, 140, 131,\n",
              "       363, 444, 336, 395, 278, 366, 340, 275, 269, 144, 118, 338, 413,\n",
              "        34, 435, 415, 436, 414, 281, 127, 401, 442, 438, 289, 441, 459,\n",
              "       116, 190, 461, 248, 196, 388, 335, 463, 446, 471, 472, 507, 419])"
            ]
          },
          "metadata": {
            "tags": []
          },
          "execution_count": 17
        }
      ]
    },
    {
      "cell_type": "code",
      "metadata": {
        "colab": {
          "base_uri": "https://localhost:8080/"
        },
        "id": "KHRSQvQpf-j0",
        "outputId": "0cf2372e-c120-447d-e6c9-ed52ab78ec6c"
      },
      "source": [
        "data_banco1['Gerencia que reporta'].unique()"
      ],
      "execution_count": 18,
      "outputs": [
        {
          "output_type": "execute_result",
          "data": {
            "text/plain": [
              "array(['Gerencia de Operaciones', 'Gerencia Banca de Servicio',\n",
              "       'Gerencia Legal', 'Gerencia de Logística',\n",
              "       'Gerencia de Finanzas y Contabilidad',\n",
              "       'Gerencia Central de Negocios y Tecnología',\n",
              "       'Gerencia de Seguridad y Prevención',\n",
              "       'Gerencia Central de Administración', 'Gerencia de Riesgos',\n",
              "       'Gerencia de Recursos Humanos',\n",
              "       'Gerencia de Banca de Desarrollo e Inclusión Financiera'],\n",
              "      dtype=object)"
            ]
          },
          "metadata": {
            "tags": []
          },
          "execution_count": 18
        }
      ]
    },
    {
      "cell_type": "code",
      "metadata": {
        "colab": {
          "base_uri": "https://localhost:8080/"
        },
        "id": "aZKWzfKOggAY",
        "outputId": "1c129b34-88b8-4f1e-cd99-e496b32d0747"
      },
      "source": [
        "data_banco1['Subgerencia que reporta'].unique()"
      ],
      "execution_count": 19,
      "outputs": [
        {
          "output_type": "execute_result",
          "data": {
            "text/plain": [
              "array(['Subgerencia Banca Virtual', 'Subgerencia Macro Región I - Piura',\n",
              "       'Subgerencia Macro Región Lima', 'Subgerencia Asuntos Procesales',\n",
              "       'Subgerencia Administración Y Servicios\\xa0',\n",
              "       'Subgerencia Macro Región V – Arequipa', 'Subgerencia Depósitos',\n",
              "       'Subgerencia Macro Región IV - Cusco',\n",
              "       'Subgerencia Macro Región II - Trujillo',\n",
              "       'Subgerencia Macro Región III - Huancayo',\n",
              "       'Subgerencia Contabilidad',\n",
              "       'Subgerencia Servicios Bancarios y Recaudación',\n",
              "       'Subgerencia Prevención Y Tratamiento Del Fraude\\xa0',\n",
              "       'Subgerencia Atención Centralizada De Reclamos',\n",
              "       'Subgerencia Agentes Corresponsales Y Atm´S', nan,\n",
              "       'Subgerencia Estudios Económicos Y Financieros',\n",
              "       'Subgerencia Seguridad\\xa0', 'Subgerencia Compensaciones',\n",
              "       'Subgerencia Banca Personal', 'Subgerencia Canales Alternos',\n",
              "       'Subgerencia Macro Región VI - Iquitos'], dtype=object)"
            ]
          },
          "metadata": {
            "tags": []
          },
          "execution_count": 19
        }
      ]
    },
    {
      "cell_type": "code",
      "metadata": {
        "colab": {
          "base_uri": "https://localhost:8080/"
        },
        "id": "yXFcSyc5grM9",
        "outputId": "e5654b44-7222-4e72-eef5-f285eb83e1aa"
      },
      "source": [
        "data_banco1['Macroregión donde se materializa el evento'].unique()"
      ],
      "execution_count": 20,
      "outputs": [
        {
          "output_type": "execute_result",
          "data": {
            "text/plain": [
              "array(['No identificado', 'Subgerencia Macro Región Lima',\n",
              "       'Subgerencia Macro Región I - Piura',\n",
              "       'Subgerencia Macro Región II - Trujillo',\n",
              "       'Subgerencia Macro Región IV - Cusco',\n",
              "       'Subgerencia Macro Región III - Huancayo',\n",
              "       'Subgerencia Macro Región V – Arequipa'], dtype=object)"
            ]
          },
          "metadata": {
            "tags": []
          },
          "execution_count": 20
        }
      ]
    },
    {
      "cell_type": "code",
      "metadata": {
        "id": "xgIV7wI5g4oJ"
      },
      "source": [
        "#data_banco1['Agencia donde se materializa el evento'].unique() #Ojo"
      ],
      "execution_count": 63,
      "outputs": []
    },
    {
      "cell_type": "code",
      "metadata": {
        "colab": {
          "base_uri": "https://localhost:8080/"
        },
        "id": "b7zTUkGNhLL9",
        "outputId": "5a0e6b4d-7130-413b-d088-aac6ece94253"
      },
      "source": [
        "data_banco1['Linea de Negocio'].unique()"
      ],
      "execution_count": 22,
      "outputs": [
        {
          "output_type": "execute_result",
          "data": {
            "text/plain": [
              "array(['Otros servicios', 'Banca minorista', 'Liquidación y pagos',\n",
              "       'Negociación y ventas', 'Banca comercial'], dtype=object)"
            ]
          },
          "metadata": {
            "tags": []
          },
          "execution_count": 22
        }
      ]
    },
    {
      "cell_type": "code",
      "metadata": {
        "colab": {
          "base_uri": "https://localhost:8080/"
        },
        "id": "UEH1Aq3ihoOd",
        "outputId": "6e917367-e262-440a-d941-d3c4bfa28c3e"
      },
      "source": [
        "data_banco1['Tipo de Evento N1'].unique()"
      ],
      "execution_count": 23,
      "outputs": [
        {
          "output_type": "execute_result",
          "data": {
            "text/plain": [
              "array(['Fraude externo',\n",
              "       'Interrupción del negocio y fallos en los sistemas',\n",
              "       'Ejecución, entrega y gestión de procesos',\n",
              "       'Daños a activos materiales',\n",
              "       'Relaciones laborales y seguridad en el puesto de trabajo',\n",
              "       'Clientes, productos y prácticas empresariales', 'Fraude interno'],\n",
              "      dtype=object)"
            ]
          },
          "metadata": {
            "tags": []
          },
          "execution_count": 23
        }
      ]
    },
    {
      "cell_type": "code",
      "metadata": {
        "colab": {
          "base_uri": "https://localhost:8080/"
        },
        "id": "c-jJd0j8h0Hq",
        "outputId": "8effc0f2-aec5-4673-9f26-373ff4053d64"
      },
      "source": [
        "data_banco1['Tipo de Evento N2'].unique()"
      ],
      "execution_count": 24,
      "outputs": [
        {
          "output_type": "execute_result",
          "data": {
            "text/plain": [
              "array(['Robo y fraude', 'Sistemas',\n",
              "       'Seguimiento y presentación de informes',\n",
              "       'Aceptación de clientes y documentación',\n",
              "       'Recepción, ejecución y mantenimiento de operaciones',\n",
              "       'Desastres y otros acontecimientos', 'Relaciones laborales',\n",
              "       'Gestión de cuentas de clientes', 'Contrapartes comerciales',\n",
              "       'Distribuidores y proveedores', 'Productos defectuosos',\n",
              "       'Adecuación, divulgación de información y confianza'], dtype=object)"
            ]
          },
          "metadata": {
            "tags": []
          },
          "execution_count": 24
        }
      ]
    },
    {
      "cell_type": "code",
      "metadata": {
        "id": "UzJ9J85Rh3ZN"
      },
      "source": [
        "#data_banco1['Descripción Corta'].unique() # Eliminar por ahora"
      ],
      "execution_count": 28,
      "outputs": []
    },
    {
      "cell_type": "code",
      "metadata": {
        "colab": {
          "base_uri": "https://localhost:8080/"
        },
        "id": "vMrQSYnViAfg",
        "outputId": "0d32b8ea-106c-4ecf-cf23-1c1ea0963ba2"
      },
      "source": [
        "data_banco1['Descripción Larga'].unique() # Eliminar "
      ],
      "execution_count": 26,
      "outputs": [
        {
          "output_type": "execute_result",
          "data": {
            "text/plain": [
              "array(['Reclamo 005711-7, Cliente Espinoza Ortiz Gabino Alfredo, reclama el importe de S/ 4,453.96, pago según suscripción de Transacción Extrajudicial.',\n",
              "       'Reclamo 283111-250, Cliente Nancy Pilar Panduro Arévalo, reclama el importe de S/ 2,807.00, pago según suscripción de Transacción Extrajudicial.',\n",
              "       'Reclamo 004511-13, Cliente Sipan Mendizabal Víctor Luis, reclama el importe de S/ 4,750.00, pago según suscripción de Transacción Extrajudicial.',\n",
              "       ..., 'RECLAMO 023120-647',\n",
              "       'El representante Legal de la empresa Contratistas Irene SRL, señaló que con fecha 12.10.12, solicitó en la Agencia de San Marcos de la Provincia de Huaraz la actualización del registro de firmas de los representantes de la citada empresa ante el BN, informando que los movimientos bancarios serían ejercidos de manera conjunta por los representantes Sres. Wilfredo Yoni Vega Chávez y Alex Fredy Vega Albornoz. El 17.10.12 se tomó conocimiento que uno de los representantes retiró de manera individual la suma de S/ 114,126.28 de la cuenta corriente de la denunciante. Según el contrato de cuenta corriente suscrito por el BN (Agencia San Marcos) con la citada empresa, establecía que Los avisos relativos a la modificación o revocación de poderes con la correspondiente documentación sustentatoria, sólo surtirán efectos para el BANCO, a partir de las cuarenta y ocho (48) horas de recibidas en la oficina donde esté registrada la cuenta . En el presente caso, la modificación de registro de firmas no se realizó dentro del plazo establecido en el contrato. Con fecha 02.10.18, el BN procedió con el pago de la multa. Con fecha 15.08.2019, el BN emitió un cheque a favor del denunciante por el importe de las costas y costos del procedimiento. Con fecha 17.09.20, el BN emitió a favor de la denunciante dos cheques por los montos de S/.40,000.00 y S/.36.00, correspondientes a los costos y costas del proceso respectivamente.',\n",
              "       'FALTANTE ATM APROBADO PARA 001'], dtype=object)"
            ]
          },
          "metadata": {
            "tags": []
          },
          "execution_count": 26
        }
      ]
    },
    {
      "cell_type": "code",
      "metadata": {
        "colab": {
          "base_uri": "https://localhost:8080/"
        },
        "id": "AUjyf0aFiO2M",
        "outputId": "cf42d956-38c2-434f-c0df-f506a0529ed6"
      },
      "source": [
        "data_banco1['Código Reclamo'].unique() # Eliminar(ojo)"
      ],
      "execution_count": 29,
      "outputs": [
        {
          "output_type": "execute_result",
          "data": {
            "text/plain": [
              "array(['005711-7', '283111-250', '004511-13', ..., '002720-25082',\n",
              "       '054420-23', '051220-403'], dtype=object)"
            ]
          },
          "metadata": {
            "tags": []
          },
          "execution_count": 29
        }
      ]
    },
    {
      "cell_type": "code",
      "metadata": {
        "colab": {
          "base_uri": "https://localhost:8080/"
        },
        "id": "g6anMnlPrVNE",
        "outputId": "0be9d013-231f-4584-832f-33cd54b2ea9e"
      },
      "source": [
        "data_banco1.groupby('Código Reclamo')['Código Reclamo'].nunique()"
      ],
      "execution_count": 70,
      "outputs": [
        {
          "output_type": "execute_result",
          "data": {
            "text/plain": [
              "Código Reclamo\n",
              "0                      1\n",
              "201827                 1\n",
              "201880                 1\n",
              "2018149                1\n",
              "2018158                1\n",
              "                      ..\n",
              "355149-2139            1\n",
              "615019-4               1\n",
              "Indecopi               1\n",
              "MIDIS 036-2014         1\n",
              "MIDIS/P65-DEP-09-15    1\n",
              "Name: Código Reclamo, Length: 9931, dtype: int64"
            ]
          },
          "metadata": {
            "tags": []
          },
          "execution_count": 70
        }
      ]
    },
    {
      "cell_type": "code",
      "metadata": {
        "colab": {
          "base_uri": "https://localhost:8080/"
        },
        "id": "VdMbyKWYiqWP",
        "outputId": "adc10cb9-f94c-463f-a57d-65e8f6e12dad"
      },
      "source": [
        "data_banco1['Apellidos y Nombres (Cliente Afectado)'].unique() # Eliminar"
      ],
      "execution_count": 31,
      "outputs": [
        {
          "output_type": "execute_result",
          "data": {
            "text/plain": [
              "array(['\\xa0ESPINOZA ORTIZ GABINO ALFREDO',\n",
              "       '\\xa0PANDURO AREVALO NANCY PILAR',\n",
              "       '\\xa0SIPAN MENDIZABAL VICTOR LUIS', ...,\n",
              "       '\\xa0FLORES QQUESUHUALLPA WILFREDO',\n",
              "       '\\xa0VENTURA MENDOZA CARLOS ARMANDO',\n",
              "       '\\xa0MANRIQUE GUZMAN DE SIMBAÑA EMILIANA'], dtype=object)"
            ]
          },
          "metadata": {
            "tags": []
          },
          "execution_count": 31
        }
      ]
    },
    {
      "cell_type": "code",
      "metadata": {
        "colab": {
          "base_uri": "https://localhost:8080/"
        },
        "id": "HjDQnr0Ei9dk",
        "outputId": "45268147-1d4c-4be5-c782-5e503892dc72"
      },
      "source": [
        "data_banco1['DNI'].unique() # Eliminar"
      ],
      "execution_count": 32,
      "outputs": [
        {
          "output_type": "execute_result",
          "data": {
            "text/plain": [
              "array(['\\xa029431392', '\\xa009857309', '\\xa009542271', ...,\n",
              "       '\\xa023999904', '\\xa023853407', '\\xa021486141'], dtype=object)"
            ]
          },
          "metadata": {
            "tags": []
          },
          "execution_count": 32
        }
      ]
    },
    {
      "cell_type": "code",
      "metadata": {
        "colab": {
          "base_uri": "https://localhost:8080/"
        },
        "id": "R6LkTLNbjF6z",
        "outputId": "f2dff75f-400b-44e4-ced2-dc35659566d4"
      },
      "source": [
        "data_banco1['Código ATM'].unique() # Eliminar(ojo)"
      ],
      "execution_count": 33,
      "outputs": [
        {
          "output_type": "execute_result",
          "data": {
            "text/plain": [
              "array(['\\xa00', '\\xa0625', '\\xa0703', ..., '\\xa01858', '\\xa01981',\n",
              "       '\\xa01789'], dtype=object)"
            ]
          },
          "metadata": {
            "tags": []
          },
          "execution_count": 33
        }
      ]
    },
    {
      "cell_type": "code",
      "metadata": {
        "colab": {
          "base_uri": "https://localhost:8080/"
        },
        "id": "o8TagurEvMT-",
        "outputId": "8f4cb617-b49e-4586-83eb-ab0d88fd4948"
      },
      "source": [
        "data_banco1.groupby('Código ATM')['Código ATM'].nunique()"
      ],
      "execution_count": 71,
      "outputs": [
        {
          "output_type": "execute_result",
          "data": {
            "text/plain": [
              "Código ATM\n",
              " 0       1\n",
              " 1       1\n",
              " 110     1\n",
              " 1101    1\n",
              " 1102    1\n",
              "        ..\n",
              " 993     1\n",
              " 995     1\n",
              " 996     1\n",
              " 998     1\n",
              " 999     1\n",
              "Name: Código ATM, Length: 1068, dtype: int64"
            ]
          },
          "metadata": {
            "tags": []
          },
          "execution_count": 71
        }
      ]
    },
    {
      "cell_type": "code",
      "metadata": {
        "colab": {
          "base_uri": "https://localhost:8080/"
        },
        "id": "bsYLOPEzjQlI",
        "outputId": "26f50f6f-d158-41c3-b80b-a1b35cc2e337"
      },
      "source": [
        "data_banco1['N° Informe Técnico'].unique() # Eliminar(ojo)"
      ],
      "execution_count": 34,
      "outputs": [
        {
          "output_type": "execute_result",
          "data": {
            "text/plain": [
              "array([nan, '\\xa02070-0592-2015', '\\xa02070-0091-2015', ...,\n",
              "       '\\xa02070-1420-2020', '\\xa02070-1461-2020', '\\xa02070-1465-2020'],\n",
              "      dtype=object)"
            ]
          },
          "metadata": {
            "tags": []
          },
          "execution_count": 34
        }
      ]
    },
    {
      "cell_type": "code",
      "metadata": {
        "colab": {
          "base_uri": "https://localhost:8080/"
        },
        "id": "U5TpkOiqvszj",
        "outputId": "46f4d839-61d5-47f8-ac4b-adf0539b0939"
      },
      "source": [
        "data_banco1.groupby('N° Informe Técnico')['N° Informe Técnico'].nunique()"
      ],
      "execution_count": 72,
      "outputs": [
        {
          "output_type": "execute_result",
          "data": {
            "text/plain": [
              "N° Informe Técnico\n",
              " 0                                    1\n",
              " 001-2019                             1\n",
              " 003-2017 / INDECOPI SAM              1\n",
              " 2060-0001-2009                       1\n",
              " 2060-0002-2019-JCRR                  1\n",
              "                                     ..\n",
              " Resolución Final Nº 0600-2015/CC1    1\n",
              " Resolución INDECOPI                  1\n",
              " Resolución N°1405-2015 INDECOPI      1\n",
              " S/N                                  1\n",
              "  2062-0057-2016                      1\n",
              "Name: N° Informe Técnico, Length: 1081, dtype: int64"
            ]
          },
          "metadata": {
            "tags": []
          },
          "execution_count": 72
        }
      ]
    },
    {
      "cell_type": "code",
      "metadata": {
        "colab": {
          "base_uri": "https://localhost:8080/"
        },
        "id": "Kf42BS3Zjc4J",
        "outputId": "97989068-1d53-47ca-9ac5-375e0ed0667c"
      },
      "source": [
        "data_banco1['N° Expediente'].unique() # Eliminar(ojo)"
      ],
      "execution_count": 35,
      "outputs": [
        {
          "output_type": "execute_result",
          "data": {
            "text/plain": [
              "array(['\\xa00', nan, '\\xa020659-2015', ...,\n",
              "       '\\xa0560-2018/PS0-INDECOPI-PIU', '\\xa0642-2018/PS0-INDECOPI-PIU',\n",
              "       '\\xa01174-2017/ILN-PS0'], dtype=object)"
            ]
          },
          "metadata": {
            "tags": []
          },
          "execution_count": 35
        }
      ]
    },
    {
      "cell_type": "code",
      "metadata": {
        "colab": {
          "base_uri": "https://localhost:8080/"
        },
        "id": "44nlOLO3v7NT",
        "outputId": "710c1965-bc68-4c46-a290-952b7e91501e"
      },
      "source": [
        "data_banco1.groupby('N° Expediente')['N° Expediente'].nunique()"
      ],
      "execution_count": 73,
      "outputs": [
        {
          "output_type": "execute_result",
          "data": {
            "text/plain": [
              "N° Expediente\n",
              " .                               1\n",
              " 0                               1\n",
              " 00007-2014-0-1616-JM-LA-01      1\n",
              " 00009-2017                      1\n",
              " 0001376-2010-0-1001-JR-LA-02    1\n",
              "                                ..\n",
              "  7850-2015-0-1801-JR-LA-12      1\n",
              "  7971-2016-0-101-JR-LA-03       1\n",
              "  9040-2014-0-1801-JR-LA-15      1\n",
              "  9166-2014-25-1801-JR-LA-07     1\n",
              "  9849-2013-0-1801-JR-LA-12      1\n",
              "Name: N° Expediente, Length: 2591, dtype: int64"
            ]
          },
          "metadata": {
            "tags": []
          },
          "execution_count": 73
        }
      ]
    },
    {
      "cell_type": "code",
      "metadata": {
        "id": "9aYtdBAJjsSd"
      },
      "source": [
        "#data_banco1['Fecha registro en Base de Datos'].unique() # Eliminar(ojo), podemos usara para series temporales"
      ],
      "execution_count": 37,
      "outputs": []
    },
    {
      "cell_type": "code",
      "metadata": {
        "colab": {
          "base_uri": "https://localhost:8080/"
        },
        "id": "LfKueGOPj3JP",
        "outputId": "39c71d01-2093-4fb5-8813-8c9185bee8c1"
      },
      "source": [
        "data_banco1['Fecha ocurrencia'].unique() # Eliminar(ojo)"
      ],
      "execution_count": 39,
      "outputs": [
        {
          "output_type": "execute_result",
          "data": {
            "text/plain": [
              "array(['2011-03-28T00:00:00.000000000', '2011-03-30T00:00:00.000000000',\n",
              "       '2011-03-31T00:00:00.000000000', ...,\n",
              "       '2020-06-23T00:00:00.000000000', '2020-06-03T00:00:00.000000000',\n",
              "       '2020-05-21T00:00:00.000000000'], dtype='datetime64[ns]')"
            ]
          },
          "metadata": {
            "tags": []
          },
          "execution_count": 39
        }
      ]
    },
    {
      "cell_type": "code",
      "metadata": {
        "colab": {
          "base_uri": "https://localhost:8080/"
        },
        "id": "kLD_CLpakPo5",
        "outputId": "7429301e-d6f8-48df-f368-47c3e2203c25"
      },
      "source": [
        "data_banco1['Fecha descubrimiento'].unique() # Eliminar(ojo)"
      ],
      "execution_count": 40,
      "outputs": [
        {
          "output_type": "execute_result",
          "data": {
            "text/plain": [
              "array(['2011-03-31T00:00:00.000000000', '2011-04-01T00:00:00.000000000',\n",
              "       '2011-04-04T00:00:00.000000000', ...,\n",
              "       '2020-06-09T00:00:00.000000000', '2020-06-04T00:00:00.000000000',\n",
              "       '2020-05-22T00:00:00.000000000'], dtype='datetime64[ns]')"
            ]
          },
          "metadata": {
            "tags": []
          },
          "execution_count": 40
        }
      ]
    },
    {
      "cell_type": "code",
      "metadata": {
        "colab": {
          "base_uri": "https://localhost:8080/"
        },
        "id": "Pvqu7dg8kkjq",
        "outputId": "f2e632e6-c79d-4c5e-c7e3-42f43e1e00ae"
      },
      "source": [
        "data_banco1['Monto Pérdida 1 (S/)'].unique() "
      ],
      "execution_count": 41,
      "outputs": [
        {
          "output_type": "execute_result",
          "data": {
            "text/plain": [
              "array([4453.96, 2807.  , 4750.  , ...,  479.08, 6228.64, 1107.  ])"
            ]
          },
          "metadata": {
            "tags": []
          },
          "execution_count": 41
        }
      ]
    },
    {
      "cell_type": "code",
      "metadata": {
        "id": "nrgJnLNvksv-"
      },
      "source": [
        "#data_banco1['Cuenta Contable - Pérdida 1'].unique() # Eliminar"
      ],
      "execution_count": 43,
      "outputs": []
    },
    {
      "cell_type": "code",
      "metadata": {
        "colab": {
          "base_uri": "https://localhost:8080/"
        },
        "id": "ZBpvUo5flG8_",
        "outputId": "7499179c-be56-4f50-f437-137276dd6516"
      },
      "source": [
        "data_banco1['Fecha Reg. Contable - Pérdida 1'].unique() # Eliminar"
      ],
      "execution_count": 44,
      "outputs": [
        {
          "output_type": "execute_result",
          "data": {
            "text/plain": [
              "array(['2011-09-29T00:00:00.000000000', '2011-09-13T00:00:00.000000000',\n",
              "       '2011-09-14T00:00:00.000000000', ...,\n",
              "       '2020-12-21T00:00:00.000000000', '2020-11-13T00:00:00.000000000',\n",
              "       '2020-12-12T00:00:00.000000000'], dtype='datetime64[ns]')"
            ]
          },
          "metadata": {
            "tags": []
          },
          "execution_count": 44
        }
      ]
    },
    {
      "cell_type": "code",
      "metadata": {
        "colab": {
          "base_uri": "https://localhost:8080/"
        },
        "id": "9M2l0gielTKw",
        "outputId": "0e54180f-a23c-44e7-c9e4-dd0804eb5f8a"
      },
      "source": [
        "data_banco1['Sintético - Pérdida 1'].unique() # Eliminar"
      ],
      "execution_count": 45,
      "outputs": [
        {
          "output_type": "execute_result",
          "data": {
            "text/plain": [
              "array(['\\xa0146-28', '\\xa0146-7', '\\xa0146-4', ..., '\\xa0806-6510',\n",
              "       '\\xa0893-904', '\\xa0813-8845'], dtype=object)"
            ]
          },
          "metadata": {
            "tags": []
          },
          "execution_count": 45
        }
      ]
    },
    {
      "cell_type": "code",
      "metadata": {
        "id": "l6jPi_xRleKR"
      },
      "source": [
        "#data_banco1['Monto Multa/Sanción (S/)'].unique() "
      ],
      "execution_count": 47,
      "outputs": []
    },
    {
      "cell_type": "code",
      "metadata": {
        "colab": {
          "base_uri": "https://localhost:8080/"
        },
        "id": "t4HyB2g2lpWD",
        "outputId": "75436005-aed7-45e8-9e9b-acc494f9235b"
      },
      "source": [
        "data_banco1['Monto Intereses Legales (S/)'].unique()"
      ],
      "execution_count": 48,
      "outputs": [
        {
          "output_type": "execute_result",
          "data": {
            "text/plain": [
              "array([0.000000e+00, 3.912363e+04, 2.326400e+03, ..., 1.200000e+01,\n",
              "       8.160000e+01, 8.550000e+00])"
            ]
          },
          "metadata": {
            "tags": []
          },
          "execution_count": 48
        }
      ]
    },
    {
      "cell_type": "code",
      "metadata": {
        "id": "idjaHlBMmBjU"
      },
      "source": [
        "#data_banco1['Monto Gastos y Costos Indirectos (S/)'].unique()"
      ],
      "execution_count": 50,
      "outputs": []
    },
    {
      "cell_type": "code",
      "metadata": {
        "colab": {
          "base_uri": "https://localhost:8080/"
        },
        "id": "-bRKRaqcmKuR",
        "outputId": "9ffb048b-371a-4ea8-e115-1e8073c90060"
      },
      "source": [
        "data_banco1['Pérdida Bruta (S/.)'].unique()"
      ],
      "execution_count": 51,
      "outputs": [
        {
          "output_type": "execute_result",
          "data": {
            "text/plain": [
              "array([ 4453.96,  2807.  ,  4750.  , ...,   441.09,  1307.61, 40036.  ])"
            ]
          },
          "metadata": {
            "tags": []
          },
          "execution_count": 51
        }
      ]
    },
    {
      "cell_type": "code",
      "metadata": {
        "id": "FBfJoSoGmU6k"
      },
      "source": [
        "#data_banco1['Monto recuperado (Coberturas existentes) (S/)'].unique() #eliminar"
      ],
      "execution_count": 53,
      "outputs": []
    },
    {
      "cell_type": "code",
      "metadata": {
        "colab": {
          "base_uri": "https://localhost:8080/"
        },
        "id": "3zxsw9EWmiF-",
        "outputId": "8a9bde00-0e2d-4b0b-f433-9294d732290f"
      },
      "source": [
        "data_banco1['Monto recuperado (Otros conceptos) (S/.)'].unique() #eliminar"
      ],
      "execution_count": 54,
      "outputs": [
        {
          "output_type": "execute_result",
          "data": {
            "text/plain": [
              "array([2000.  ,  280.2 , 2500.  , ...,  398.  ,  211.14,  323.2 ])"
            ]
          },
          "metadata": {
            "tags": []
          },
          "execution_count": 54
        }
      ]
    },
    {
      "cell_type": "code",
      "metadata": {
        "colab": {
          "base_uri": "https://localhost:8080/"
        },
        "id": "8WpRPAYhmtZ0",
        "outputId": "77ceb54c-4188-4244-e75a-0785cf1d7533"
      },
      "source": [
        "data_banco1['Total Monto recuperado (S/.)'].unique()"
      ],
      "execution_count": 55,
      "outputs": [
        {
          "output_type": "execute_result",
          "data": {
            "text/plain": [
              "array([ 2000.  ,   280.2 ,  2500.  , ...,   211.14,   323.2 , 17622.  ])"
            ]
          },
          "metadata": {
            "tags": []
          },
          "execution_count": 55
        }
      ]
    },
    {
      "cell_type": "code",
      "metadata": {
        "colab": {
          "base_uri": "https://localhost:8080/"
        },
        "id": "nwLBkQnim10v",
        "outputId": "8cafff49-16ee-4484-cebd-38c69c5ff3fd"
      },
      "source": [
        "data_banco1['Pérdida Neta (S/.)'].unique()"
      ],
      "execution_count": 56,
      "outputs": [
        {
          "output_type": "execute_result",
          "data": {
            "text/plain": [
              "array([ 2453.96,  2526.8 ,  2250.  , ...,   441.09,  1307.61, 40036.  ])"
            ]
          },
          "metadata": {
            "tags": []
          },
          "execution_count": 56
        }
      ]
    },
    {
      "cell_type": "code",
      "metadata": {
        "colab": {
          "base_uri": "https://localhost:8080/"
        },
        "id": "VWU0fJajnD0s",
        "outputId": "7b66128b-696f-46d4-fa07-19fde63afd32"
      },
      "source": [
        "data_banco1['Evento asociado a Riesgo Crediticio'].unique()"
      ],
      "execution_count": 57,
      "outputs": [
        {
          "output_type": "execute_result",
          "data": {
            "text/plain": [
              "array(['\\xa0No', '\\xa0Si'], dtype=object)"
            ]
          },
          "metadata": {
            "tags": []
          },
          "execution_count": 57
        }
      ]
    },
    {
      "cell_type": "code",
      "metadata": {
        "colab": {
          "base_uri": "https://localhost:8080/"
        },
        "id": "8MxhYjxpnNBN",
        "outputId": "31675b14-f99e-4746-be1f-85c87a24c395"
      },
      "source": [
        "data_banco1['Registro Contable'].unique()"
      ],
      "execution_count": 58,
      "outputs": [
        {
          "output_type": "execute_result",
          "data": {
            "text/plain": [
              "array(['\\xa0Conciliado', nan, '\\xa0No conciliado'], dtype=object)"
            ]
          },
          "metadata": {
            "tags": []
          },
          "execution_count": 58
        }
      ]
    },
    {
      "cell_type": "code",
      "metadata": {
        "colab": {
          "base_uri": "https://localhost:8080/"
        },
        "id": "1D7EpeMRnaIS",
        "outputId": "a478d9af-3b84-4d41-ab7d-73dd86a6d522"
      },
      "source": [
        "data_banco1['Estado'].unique()"
      ],
      "execution_count": 59,
      "outputs": [
        {
          "output_type": "execute_result",
          "data": {
            "text/plain": [
              "array(['\\xa0Cerrado', '\\xa0Abierto', '\\xa0Observados', nan], dtype=object)"
            ]
          },
          "metadata": {
            "tags": []
          },
          "execution_count": 59
        }
      ]
    },
    {
      "cell_type": "code",
      "metadata": {
        "colab": {
          "base_uri": "https://localhost:8080/"
        },
        "id": "UoIFILsknjVI",
        "outputId": "b3a91378-74f4-4efc-c048-d96d49540abe"
      },
      "source": [
        "data_banco1['POS involucrado'].unique() #eliminar"
      ],
      "execution_count": 60,
      "outputs": [
        {
          "output_type": "execute_result",
          "data": {
            "text/plain": [
              "array(['\\xa00'], dtype=object)"
            ]
          },
          "metadata": {
            "tags": []
          },
          "execution_count": 60
        }
      ]
    },
    {
      "cell_type": "code",
      "metadata": {
        "colab": {
          "base_uri": "https://localhost:8080/"
        },
        "id": "_SUrIWxZnq8m",
        "outputId": "8976e902-97fc-4987-b220-8192f3b60a96"
      },
      "source": [
        "data_banco1 = data_banco1.drop(['POS involucrado','Monto recuperado (Otros conceptos) (S/.)','Monto recuperado (Coberturas existentes) (S/)','Sintético - Pérdida 1','Fecha Reg. Contable - Pérdida 1','Cuenta Contable - Pérdida 1','Fecha descubrimiento','Fecha ocurrencia','Fecha registro en Base de Datos','DNI','Apellidos y Nombres (Cliente Afectado)','Descripción Larga','Descripción Corta','Memo.','N°','Evento Estimado'], axis=1)\n",
        "data_banco1.info()"
      ],
      "execution_count": 61,
      "outputs": [
        {
          "output_type": "stream",
          "text": [
            "<class 'pandas.core.frame.DataFrame'>\n",
            "RangeIndex: 19534 entries, 0 to 19533\n",
            "Data columns (total 24 columns):\n",
            " #   Column                                      Non-Null Count  Dtype  \n",
            "---  ------                                      --------------  -----  \n",
            " 0   Código Evento                               19534 non-null  object \n",
            " 1   AÑO                                         19534 non-null  int64  \n",
            " 2   Código Riesgo                               19534 non-null  int64  \n",
            " 3   Gerencia que reporta                        19534 non-null  object \n",
            " 4   Subgerencia que reporta                     19449 non-null  object \n",
            " 5   Macroregión donde se materializa el evento  19534 non-null  object \n",
            " 6   Agencia donde se materializa el evento      19534 non-null  object \n",
            " 7   Linea de Negocio                            19534 non-null  object \n",
            " 8   Tipo de Evento N1                           19534 non-null  object \n",
            " 9   Tipo de Evento N2                           19534 non-null  object \n",
            " 10  Código Reclamo                              10231 non-null  object \n",
            " 11  Código ATM                                  19534 non-null  object \n",
            " 12  N° Informe Técnico                          8108 non-null   object \n",
            " 13  N° Expediente                               14709 non-null  object \n",
            " 14  Monto Pérdida 1 (S/)                        19534 non-null  float64\n",
            " 15  Monto Multa/Sanción (S/)                    19534 non-null  float64\n",
            " 16  Monto Intereses Legales (S/)                19534 non-null  float64\n",
            " 17  Monto Gastos y Costos Indirectos (S/)       19534 non-null  float64\n",
            " 18  Pérdida Bruta (S/.)                         19534 non-null  float64\n",
            " 19  Total Monto recuperado (S/.)                19534 non-null  float64\n",
            " 20  Pérdida Neta (S/.)                          19534 non-null  float64\n",
            " 21  Evento asociado a Riesgo Crediticio         19534 non-null  object \n",
            " 22  Registro Contable                           14597 non-null  object \n",
            " 23  Estado                                      18168 non-null  object \n",
            "dtypes: float64(7), int64(2), object(15)\n",
            "memory usage: 3.6+ MB\n"
          ],
          "name": "stdout"
        }
      ]
    },
    {
      "cell_type": "code",
      "metadata": {
        "colab": {
          "base_uri": "https://localhost:8080/"
        },
        "id": "UbBKB2gjqSuS",
        "outputId": "0807c53b-069f-499c-c539-f0d2c57e8bbe"
      },
      "source": [
        "data_banco1 = data_banco1.drop(['Código Evento','Código Reclamo','N° Informe Técnico','N° Expediente'], axis=1)\n",
        "data_banco1.info()"
      ],
      "execution_count": 74,
      "outputs": [
        {
          "output_type": "stream",
          "text": [
            "<class 'pandas.core.frame.DataFrame'>\n",
            "RangeIndex: 19534 entries, 0 to 19533\n",
            "Data columns (total 20 columns):\n",
            " #   Column                                      Non-Null Count  Dtype  \n",
            "---  ------                                      --------------  -----  \n",
            " 0   AÑO                                         19534 non-null  int64  \n",
            " 1   Código Riesgo                               19534 non-null  int64  \n",
            " 2   Gerencia que reporta                        19534 non-null  object \n",
            " 3   Subgerencia que reporta                     19449 non-null  object \n",
            " 4   Macroregión donde se materializa el evento  19534 non-null  object \n",
            " 5   Agencia donde se materializa el evento      19534 non-null  object \n",
            " 6   Linea de Negocio                            19534 non-null  object \n",
            " 7   Tipo de Evento N1                           19534 non-null  object \n",
            " 8   Tipo de Evento N2                           19534 non-null  object \n",
            " 9   Código ATM                                  19534 non-null  object \n",
            " 10  Monto Pérdida 1 (S/)                        19534 non-null  float64\n",
            " 11  Monto Multa/Sanción (S/)                    19534 non-null  float64\n",
            " 12  Monto Intereses Legales (S/)                19534 non-null  float64\n",
            " 13  Monto Gastos y Costos Indirectos (S/)       19534 non-null  float64\n",
            " 14  Pérdida Bruta (S/.)                         19534 non-null  float64\n",
            " 15  Total Monto recuperado (S/.)                19534 non-null  float64\n",
            " 16  Pérdida Neta (S/.)                          19534 non-null  float64\n",
            " 17  Evento asociado a Riesgo Crediticio         19534 non-null  object \n",
            " 18  Registro Contable                           14597 non-null  object \n",
            " 19  Estado                                      18168 non-null  object \n",
            "dtypes: float64(7), int64(2), object(11)\n",
            "memory usage: 3.0+ MB\n"
          ],
          "name": "stdout"
        }
      ]
    },
    {
      "cell_type": "code",
      "metadata": {
        "colab": {
          "base_uri": "https://localhost:8080/"
        },
        "id": "u4TH92tvwQ6J",
        "outputId": "f524bc17-51b8-4964-e86a-eb879b935d69"
      },
      "source": [
        "#eliminamos valores NaN\n",
        "data_banco1 =data_banco1.dropna()\n",
        "data_banco1.info()"
      ],
      "execution_count": 75,
      "outputs": [
        {
          "output_type": "stream",
          "text": [
            "<class 'pandas.core.frame.DataFrame'>\n",
            "Int64Index: 13843 entries, 0 to 19533\n",
            "Data columns (total 20 columns):\n",
            " #   Column                                      Non-Null Count  Dtype  \n",
            "---  ------                                      --------------  -----  \n",
            " 0   AÑO                                         13843 non-null  int64  \n",
            " 1   Código Riesgo                               13843 non-null  int64  \n",
            " 2   Gerencia que reporta                        13843 non-null  object \n",
            " 3   Subgerencia que reporta                     13843 non-null  object \n",
            " 4   Macroregión donde se materializa el evento  13843 non-null  object \n",
            " 5   Agencia donde se materializa el evento      13843 non-null  object \n",
            " 6   Linea de Negocio                            13843 non-null  object \n",
            " 7   Tipo de Evento N1                           13843 non-null  object \n",
            " 8   Tipo de Evento N2                           13843 non-null  object \n",
            " 9   Código ATM                                  13843 non-null  object \n",
            " 10  Monto Pérdida 1 (S/)                        13843 non-null  float64\n",
            " 11  Monto Multa/Sanción (S/)                    13843 non-null  float64\n",
            " 12  Monto Intereses Legales (S/)                13843 non-null  float64\n",
            " 13  Monto Gastos y Costos Indirectos (S/)       13843 non-null  float64\n",
            " 14  Pérdida Bruta (S/.)                         13843 non-null  float64\n",
            " 15  Total Monto recuperado (S/.)                13843 non-null  float64\n",
            " 16  Pérdida Neta (S/.)                          13843 non-null  float64\n",
            " 17  Evento asociado a Riesgo Crediticio         13843 non-null  object \n",
            " 18  Registro Contable                           13843 non-null  object \n",
            " 19  Estado                                      13843 non-null  object \n",
            "dtypes: float64(7), int64(2), object(11)\n",
            "memory usage: 2.2+ MB\n"
          ],
          "name": "stdout"
        }
      ]
    },
    {
      "cell_type": "code",
      "metadata": {
        "colab": {
          "base_uri": "https://localhost:8080/",
          "height": 276
        },
        "id": "wDsbye3PxLEx",
        "outputId": "49ec0a46-3bb0-48ae-da28-b7f92d34c439"
      },
      "source": [
        "plt.plot(data_banco1.index,data_banco1['Monto Pérdida 1 (S/)'])\n",
        "plt.show()"
      ],
      "execution_count": 76,
      "outputs": [
        {
          "output_type": "display_data",
          "data": {
            "image/png": "[encoded data removed]",
            "text/plain": [
              "<Figure size 432x288 with 1 Axes>"
            ]
          },
          "metadata": {
            "tags": [],
            "needs_background": "light"
          }
        }
      ]
    },
    {
      "cell_type": "code",
      "metadata": {
        "colab": {
          "base_uri": "https://localhost:8080/",
          "height": 329
        },
        "id": "LftayJ-QxyyQ",
        "outputId": "8d7de831-271f-40bf-caa7-3d4b322373a3"
      },
      "source": [
        "data_banco1.describe()"
      ],
      "execution_count": 78,
      "outputs": [
        {
          "output_type": "execute_result",
          "data": {
            "text/html": [
              "<div>\n",
              "<style scoped>\n",
              "    .dataframe tbody tr th:only-of-type {\n",
              "        vertical-align: middle;\n",
              "    }\n",
              "\n",
              "    .dataframe tbody tr th {\n",
              "        vertical-align: top;\n",
              "    }\n",
              "\n",
              "    .dataframe thead th {\n",
              "        text-align: right;\n",
              "    }\n",
              "</style>\n",
              "<table border=\"1\" class=\"dataframe\">\n",
              "  <thead>\n",
              "    <tr style=\"text-align: right;\">\n",
              "      <th></th>\n",
              "      <th>AÑO</th>\n",
              "      <th>Código Riesgo</th>\n",
              "      <th>Monto Pérdida 1 (S/)</th>\n",
              "      <th>Monto Multa/Sanción (S/)</th>\n",
              "      <th>Monto Intereses Legales (S/)</th>\n",
              "      <th>Monto Gastos y Costos Indirectos (S/)</th>\n",
              "      <th>Pérdida Bruta (S/.)</th>\n",
              "      <th>Total Monto recuperado (S/.)</th>\n",
              "      <th>Pérdida Neta (S/.)</th>\n",
              "    </tr>\n",
              "  </thead>\n",
              "  <tbody>\n",
              "    <tr>\n",
              "      <th>count</th>\n",
              "      <td>13843.000000</td>\n",
              "      <td>13843.000000</td>\n",
              "      <td>1.384300e+04</td>\n",
              "      <td>13843.000000</td>\n",
              "      <td>1.384300e+04</td>\n",
              "      <td>13843.000000</td>\n",
              "      <td>1.384300e+04</td>\n",
              "      <td>1.384300e+04</td>\n",
              "      <td>1.384300e+04</td>\n",
              "    </tr>\n",
              "    <tr>\n",
              "      <th>mean</th>\n",
              "      <td>2017.567796</td>\n",
              "      <td>270.662501</td>\n",
              "      <td>1.157896e+04</td>\n",
              "      <td>174.196413</td>\n",
              "      <td>1.673384e+03</td>\n",
              "      <td>277.720842</td>\n",
              "      <td>1.370427e+04</td>\n",
              "      <td>1.194798e+03</td>\n",
              "      <td>1.250947e+04</td>\n",
              "    </tr>\n",
              "    <tr>\n",
              "      <th>std</th>\n",
              "      <td>2.326622</td>\n",
              "      <td>93.899410</td>\n",
              "      <td>2.240332e+05</td>\n",
              "      <td>5134.601888</td>\n",
              "      <td>3.316405e+04</td>\n",
              "      <td>3809.267243</td>\n",
              "      <td>2.268740e+05</td>\n",
              "      <td>7.267088e+04</td>\n",
              "      <td>2.148523e+05</td>\n",
              "    </tr>\n",
              "    <tr>\n",
              "      <th>min</th>\n",
              "      <td>2011.000000</td>\n",
              "      <td>0.000000</td>\n",
              "      <td>0.000000e+00</td>\n",
              "      <td>0.000000</td>\n",
              "      <td>0.000000e+00</td>\n",
              "      <td>0.000000</td>\n",
              "      <td>1.000000e-02</td>\n",
              "      <td>0.000000e+00</td>\n",
              "      <td>-2.115825e+05</td>\n",
              "    </tr>\n",
              "    <tr>\n",
              "      <th>25%</th>\n",
              "      <td>2015.000000</td>\n",
              "      <td>226.000000</td>\n",
              "      <td>6.607000e+01</td>\n",
              "      <td>0.000000</td>\n",
              "      <td>0.000000e+00</td>\n",
              "      <td>0.000000</td>\n",
              "      <td>1.299750e+02</td>\n",
              "      <td>0.000000e+00</td>\n",
              "      <td>8.060500e+01</td>\n",
              "    </tr>\n",
              "    <tr>\n",
              "      <th>50%</th>\n",
              "      <td>2019.000000</td>\n",
              "      <td>274.000000</td>\n",
              "      <td>2.499100e+02</td>\n",
              "      <td>0.000000</td>\n",
              "      <td>0.000000e+00</td>\n",
              "      <td>0.000000</td>\n",
              "      <td>4.000000e+02</td>\n",
              "      <td>0.000000e+00</td>\n",
              "      <td>4.000000e+02</td>\n",
              "    </tr>\n",
              "    <tr>\n",
              "      <th>75%</th>\n",
              "      <td>2019.000000</td>\n",
              "      <td>338.000000</td>\n",
              "      <td>1.200000e+03</td>\n",
              "      <td>0.000000</td>\n",
              "      <td>0.000000e+00</td>\n",
              "      <td>0.000000</td>\n",
              "      <td>3.320100e+03</td>\n",
              "      <td>0.000000e+00</td>\n",
              "      <td>2.874200e+03</td>\n",
              "    </tr>\n",
              "    <tr>\n",
              "      <th>max</th>\n",
              "      <td>2020.000000</td>\n",
              "      <td>507.000000</td>\n",
              "      <td>2.093198e+07</td>\n",
              "      <td>412737.540000</td>\n",
              "      <td>3.750281e+06</td>\n",
              "      <td>371389.850000</td>\n",
              "      <td>2.093198e+07</td>\n",
              "      <td>7.291430e+06</td>\n",
              "      <td>2.093198e+07</td>\n",
              "    </tr>\n",
              "  </tbody>\n",
              "</table>\n",
              "</div>"
            ],
            "text/plain": [
              "                AÑO  ...  Pérdida Neta (S/.)\n",
              "count  13843.000000  ...        1.384300e+04\n",
              "mean    2017.567796  ...        1.250947e+04\n",
              "std        2.326622  ...        2.148523e+05\n",
              "min     2011.000000  ...       -2.115825e+05\n",
              "25%     2015.000000  ...        8.060500e+01\n",
              "50%     2019.000000  ...        4.000000e+02\n",
              "75%     2019.000000  ...        2.874200e+03\n",
              "max     2020.000000  ...        2.093198e+07\n",
              "\n",
              "[8 rows x 9 columns]"
            ]
          },
          "metadata": {
            "tags": []
          },
          "execution_count": 78
        }
      ]
    },
    {
      "cell_type": "code",
      "metadata": {
        "id": "8K84zO8_x77p"
      },
      "source": [
        ""
      ],
      "execution_count": null,
      "outputs": []
    }
  ]
}